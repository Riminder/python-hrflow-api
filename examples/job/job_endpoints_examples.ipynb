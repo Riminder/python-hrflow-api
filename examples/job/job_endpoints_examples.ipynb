{
 "cells": [
  {
   "attachments": {},
   "cell_type": "markdown",
   "metadata": {},
   "source": [
    "# Setup the config and authentication"
   ]
  },
  {
   "cell_type": "code",
   "execution_count": 1,
   "metadata": {},
   "outputs": [],
   "source": [
    "from getpass import getpass\n",
    "import os\n",
    "import json \n",
    "from hrflow import Hrflow\n",
    "\n",
    "# # Get API credentials from environment variables\n",
    "api_secret = getpass(\"Enter your API secret: \")\n",
    "board_key = getpass(\"Enter your board key: \")\n",
    "user_email = getpass(\"Enter your user email: \")"
   ]
  },
  {
   "attachments": {},
   "cell_type": "markdown",
   "metadata": {},
   "source": [
    "# Setup HrFlow.ai Client "
   ]
  },
  {
   "cell_type": "code",
   "execution_count": 4,
   "metadata": {},
   "outputs": [],
   "source": [
    "client = Hrflow(api_secret=api_secret, api_user=user_email)"
   ]
  },
  {
   "attachments": {},
   "cell_type": "markdown",
   "metadata": {},
   "source": [
    "# 1 -  Read a Job in a Board in HrFlow.ai "
   ]
  },
  {
   "attachments": {},
   "cell_type": "markdown",
   "metadata": {},
   "source": [
    "### a - Using external ID set : `reference` in HrFlow.ai"
   ]
  },
  {
   "cell_type": "code",
   "execution_count": null,
   "metadata": {},
   "outputs": [],
   "source": [
    "reference = \"a2n1j000000g0AAAAY\" # <-- Replace with your job reference\n",
    "\n",
    "# Get job by reference\n",
    "response = client.job.storing.get(board_key=board_key, reference=reference)\n",
    "\n",
    "response"
   ]
  },
  {
   "attachments": {},
   "cell_type": "markdown",
   "metadata": {},
   "source": [
    "### b - Using profile key (internal set by HrFlow.ai) : `key` in HrFlow.ai"
   ]
  },
  {
   "cell_type": "code",
   "execution_count": null,
   "metadata": {},
   "outputs": [],
   "source": [
    "key = \"FILL THIS\" # <-- Replace with your job key\n",
    "\n",
    "# Get job by reference\n",
    "response = client.job.storing.get(board_key=board_key, key=key)\n",
    "\n",
    "response"
   ]
  },
  {
   "attachments": {},
   "cell_type": "markdown",
   "metadata": {},
   "source": [
    "# 2 -  Write a job in a board from a Structured data "
   ]
  },
  {
   "cell_type": "code",
   "execution_count": 8,
   "metadata": {},
   "outputs": [
    {
     "data": {
      "text/plain": [
       "{'code': 201,\n",
       " 'message': 'Job created',\n",
       " 'data': {'id': 1245507,\n",
       "  'key': '4f2e11266a11e728e794dc5f0867462fa60321ba',\n",
       "  'reference': 'my_custom_reference',\n",
       "  'board_key': '7fce016712fa373456ef279c297da5009a2020d9',\n",
       "  'board': {'key': '7fce016712fa373456ef279c297da5009a2020d9',\n",
       "   'name': 'vulcain_test',\n",
       "   'type': 'api',\n",
       "   'subtype': 'python',\n",
       "   'environment': 'production'},\n",
       "  'name': 'Data Engineer',\n",
       "  'url': 'https://www.pole-emploi.ai/jobs/data_engineer',\n",
       "  'picture': None,\n",
       "  'summary': 'As an engineer for the Data Engineering Infrastructure team, you will design, build, scale, and evolve our data engineering  platform, services and tooling. Your work will have a critical  impact on all areas of business:supporting detailed internal analytics, calculating customer usage, securing our platform, and much more.',\n",
       "  'location': {'text': 'Dampierre en Burly (45)',\n",
       "   'lat': None,\n",
       "   'lng': None,\n",
       "   'gmaps': None,\n",
       "   'fields': None},\n",
       "  'archive': None,\n",
       "  'archived_at': None,\n",
       "  'updated_at': '2023-06-20T15:50:32+0000',\n",
       "  'created_at': '2023-06-20T15:50:32+0000',\n",
       "  'sections': [{'name': 'section 1',\n",
       "    'title': 'title section 1',\n",
       "    'description': 'text section 1'}],\n",
       "  'culture': 'FILL THIS WITH A TEXT ABOUT YOUR COMPANY CULTURE',\n",
       "  'responsibilities': 'FILL THIS WITH A TEXT ABOUT THE RESPONSIBILITIES OF THE JOB',\n",
       "  'requirements': 'FILL THIS WITH A TEXT ABOUT THE REQUIREMENTS OF THE JOB',\n",
       "  'benefits': 'FILL THIS WITH A TEXT ABOUT THE BENEFITS OF THE JOB',\n",
       "  'interviews': 'FILL THIS WITH A TEXT ABOUT THE INTERVIEWS OF THE JOB',\n",
       "  'skills': [{'name': 'python', 'value': None, 'type': 'hard'},\n",
       "   {'name': 'spark', 'value': 0.9, 'type': 'hard'}],\n",
       "  'languages': [{'name': 'english', 'value': None},\n",
       "   {'name': 'french', 'value': None}],\n",
       "  'certifications': None,\n",
       "  'courses': None,\n",
       "  'tasks': None,\n",
       "  'tags': [{'name': 'company', 'value': 'Google'}],\n",
       "  'metadatas': [{'name': 'metadata example', 'value': 'metadata'}],\n",
       "  'ranges_float': [{'name': 'salary',\n",
       "    'value_min': 45000,\n",
       "    'value_max': 50000,\n",
       "    'unit': 'eur'}],\n",
       "  'ranges_date': [{'name': 'interview_dates',\n",
       "    'value_min': '2023-05-18T21:59',\n",
       "    'value_max': '2023-09-15T21:59'}]}}"
      ]
     },
     "execution_count": 8,
     "metadata": {},
     "output_type": "execute_result"
    }
   ],
   "source": [
    "input_data =     {\n",
    "        \"name\": \"Data Engineer\",\n",
    "        \"reference\": \"my_custom_reference\", # <-- Replace with your job reference\n",
    "        \"url\": \"https://www.pole-emploi.ai/jobs/data_engineer\",\n",
    "        \"summary\": \"As an engineer for the Data Engineering Infrastructure team, you will design, build, scale, and evolve our data engineering  platform, services and tooling. Your work will have a critical  impact on all areas of business:supporting detailed internal analytics, calculating customer usage, securing our platform, and much more.\",\n",
    "        \"location\": {\n",
    "                    \"text\": \"Dampierre en Burly (45)\",\n",
    "                    \"geopoint\": {\n",
    "                        \"lat\": 47.7667,\n",
    "                        \"lon\": 2.5167\n",
    "                    }\n",
    "                    },\n",
    "        \"culture\": \"FILL THIS WITH A TEXT ABOUT YOUR COMPANY CULTURE\",\n",
    "        \"responsibilities\": \"FILL THIS WITH A TEXT ABOUT THE RESPONSIBILITIES OF THE JOB\",\n",
    "        \"requirements\": \"FILL THIS WITH A TEXT ABOUT THE REQUIREMENTS OF THE JOB\",\n",
    "        \"benefits\": \"FILL THIS WITH A TEXT ABOUT THE BENEFITS OF THE JOB\",\n",
    "        \"interviews\": \"FILL THIS WITH A TEXT ABOUT THE INTERVIEWS OF THE JOB\",\n",
    "        \"sections\": [{                    # <-- Sections are mandatory, leave as empty list if no section is provided\n",
    "                    \"name\": \"section 1\",\n",
    "                    \"title\": \"title section 1\",\n",
    "                    \"description\": \"text section 1\"\n",
    "                }\n",
    "        ],\n",
    "        \"skills\": [{\n",
    "                    \"name\": \"python\",\n",
    "                    \"value\": None, # <-- Leave None if no assessment to skills is provided\n",
    "                    \"type\": \"hard\"\n",
    "                },\n",
    "                {\n",
    "                    \"name\": \"spark\",\n",
    "                    \"value\": 0.9,\n",
    "                    \"type\": \"hard\"\n",
    "                }\n",
    "                ],\n",
    "        \"languages\": [{\n",
    "                        \"name\": \"english\",\n",
    "                        \"value\": None\n",
    "                    },\n",
    "                    {  \n",
    "                        \"name\": \"french\",\n",
    "                        \"value\": None\n",
    "                    }\n",
    "                    ],\n",
    "        \"tags\": [{\n",
    "                    \"name\": \"company\", # <-- Other custom fields can be added as tags\n",
    "                    \"value\": \"Google\"\n",
    "                }\n",
    "                ],\n",
    "        \"ranges_date\": [{\n",
    "                        \"name\": \"interview_dates\",\n",
    "                        \"value_min\": \"2023-05-18T21:59\",\n",
    "                        \"value_max\": \"2023-09-15T21:59\"\n",
    "                        }\n",
    "                        ],\n",
    "        \"ranges_float\": [{\n",
    "                        \"name\": \"salary\",\n",
    "                        \"value_min\": 45000,\n",
    "                        \"value_max\": 50000,\n",
    "                        \"unit\": \"eur\"\n",
    "                        }\n",
    "                        ],\n",
    "        \"metadatas\": [{\n",
    "                        \"name\": \"metadata example\",\n",
    "                        \"value\": \"metadata\"\n",
    "                    }\n",
    "                    ]\n",
    "    }\n",
    "\n",
    "response = client.job.storing.add_json(board_key=board_key, job_json=input_data)\n",
    "\n",
    "response"
   ]
  },
  {
   "attachments": {},
   "cell_type": "markdown",
   "metadata": {},
   "source": [
    "# 3 - Archive a Job already in a Board "
   ]
  },
  {
   "attachments": {},
   "cell_type": "markdown",
   "metadata": {},
   "source": [
    "### a - Archive a Job from a Board"
   ]
  },
  {
   "cell_type": "code",
   "execution_count": 9,
   "metadata": {},
   "outputs": [
    {
     "data": {
      "text/plain": [
       "{'code': 200,\n",
       " 'message': 'Job archived',\n",
       " 'data': {'key': '4f2e11266a11e728e794dc5f0867462fa60321ba'}}"
      ]
     },
     "execution_count": 9,
     "metadata": {},
     "output_type": "execute_result"
    }
   ],
   "source": [
    "# Let's archive the job with reference \"my_custom_reference\"\n",
    "reference = \"my_custom_reference\" # <-- Replace with your job reference\n",
    "\n",
    "response = client.job.storing.archive(board_key=board_key,\n",
    "                                        reference=reference)\n",
    "\n",
    "response"
   ]
  },
  {
   "attachments": {},
   "cell_type": "markdown",
   "metadata": {},
   "source": [
    "# 5 - Edit a Job already in a Board "
   ]
  },
  {
   "cell_type": "code",
   "execution_count": 7,
   "metadata": {},
   "outputs": [
    {
     "data": {
      "text/plain": [
       "{'code': 200,\n",
       " 'message': 'Job edited',\n",
       " 'data': {'id': 1264450,\n",
       "  'key': '8cee3ead87a38cc1f7f3cf9298b7e58e16406e05',\n",
       "  'reference': 'my_custom_reference',\n",
       "  'board_key': '7fce016712fa373456ef279c297da5009a2020d9',\n",
       "  'board': {'key': '7fce016712fa373456ef279c297da5009a2020d9',\n",
       "   'name': 'vulcain_test',\n",
       "   'type': 'api',\n",
       "   'subtype': 'python',\n",
       "   'environment': 'production'},\n",
       "  'name': 'Data Engineer',\n",
       "  'url': 'https://www.pole-emploi.ai/jobs/data_engineer',\n",
       "  'picture': None,\n",
       "  'summary': 'As an engineer for the Data Engineering Infrastructure team, you will design, build, scale, and evolve our data engineering  platform, services and tooling. Your work will have a critical  impact on all areas of business:supporting detailed internal analytics, calculating customer usage, securing our platform, and much more.',\n",
       "  'location': {'text': 'Dampierre en Burly (45)',\n",
       "   'lat': None,\n",
       "   'lng': None,\n",
       "   'gmaps': None,\n",
       "   'fields': []},\n",
       "  'archive': None,\n",
       "  'archived_at': None,\n",
       "  'updated_at': '2023-06-21T15:54:45+0000',\n",
       "  'created_at': '2023-06-21T15:54:45+0000',\n",
       "  'sections': [{'name': 'section 1',\n",
       "    'title': 'title section 1',\n",
       "    'description': 'text section 1'}],\n",
       "  'culture': 'This is a New CULTURE 123!!',\n",
       "  'responsibilities': 'FILL THIS WITH A TEXT ABOUT THE RESPONSIBILITIES OF THE JOB',\n",
       "  'requirements': 'FILL THIS WITH A TEXT ABOUT THE REQUIREMENTS OF THE JOB',\n",
       "  'benefits': 'FILL THIS WITH A TEXT ABOUT THE BENEFITS OF THE JOB',\n",
       "  'interviews': 'FILL THIS WITH A TEXT ABOUT THE INTERVIEWS OF THE JOB',\n",
       "  'skills': [{'name': 'python', 'value': None, 'type': 'hard'},\n",
       "   {'name': 'spark', 'value': 0.9, 'type': 'hard'}],\n",
       "  'languages': [{'name': 'english', 'value': None},\n",
       "   {'name': 'french', 'value': None}],\n",
       "  'certifications': [],\n",
       "  'courses': [],\n",
       "  'tasks': [],\n",
       "  'tags': [{'name': 'company', 'value': 'Google'}],\n",
       "  'metadatas': [{'name': 'metadata example', 'value': 'metadata'}],\n",
       "  'ranges_float': [{'name': 'salary',\n",
       "    'value_min': 45000,\n",
       "    'value_max': 50000,\n",
       "    'unit': 'eur'}],\n",
       "  'ranges_date': [{'name': 'interview_dates',\n",
       "    'value_min': '2023-05-18T21:59',\n",
       "    'value_max': '2023-09-15T21:59'}]}}"
      ]
     },
     "execution_count": 7,
     "metadata": {},
     "output_type": "execute_result"
    }
   ],
   "source": [
    "# Edit a job : edit is a Put not a Patch so you need to provide all the fields\n",
    "\n",
    "# let's get the job by reference\n",
    "reference = \"my_custom_reference\" # <-- Replace with your job reference\n",
    "\n",
    "response = client.job.storing.get(board_key=board_key, reference=reference)\n",
    "\n",
    "job = response['data']\n",
    "\n",
    "# edit a field or more \n",
    "job['culture'] = \"This is a New CULTURE 123!!\"\n",
    "\n",
    "# edit the job\n",
    "response = client.job.storing.edit(board_key=board_key,\n",
    "                                        # key=job['key'], # This is Optional, fand left for backward compatibility\n",
    "                                        job_json=job)\n",
    "\n",
    "response"
   ]
  },
  {
   "cell_type": "code",
   "execution_count": 8,
   "metadata": {},
   "outputs": [
    {
     "data": {
      "text/plain": [
       "'This is a New CULTURE !!'"
      ]
     },
     "execution_count": 8,
     "metadata": {},
     "output_type": "execute_result"
    }
   ],
   "source": [
    "response[\"data\"][\"culture\"]"
   ]
  },
  {
   "cell_type": "code",
   "execution_count": null,
   "metadata": {},
   "outputs": [],
   "source": []
  }
 ],
 "metadata": {
  "kernelspec": {
   "display_name": "python-hrflow-api-S_mz3ndj-py3.8",
   "language": "python",
   "name": "python3"
  },
  "language_info": {
   "codemirror_mode": {
    "name": "ipython",
    "version": 3
   },
   "file_extension": ".py",
   "mimetype": "text/x-python",
   "name": "python",
   "nbconvert_exporter": "python",
   "pygments_lexer": "ipython3",
   "version": "3.10.5"
  },
  "orig_nbformat": 4
 },
 "nbformat": 4,
 "nbformat_minor": 2
}
