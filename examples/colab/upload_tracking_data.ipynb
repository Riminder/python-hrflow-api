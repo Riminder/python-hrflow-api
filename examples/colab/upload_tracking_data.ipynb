{
  "nbformat": 4,
  "nbformat_minor": 0,
  "metadata": {
    "colab": {
      "provenance": [],
      "toc_visible": true
    },
    "kernelspec": {
      "name": "python3",
      "display_name": "Python 3"
    }
  },
  "cells": [
    {
      "cell_type": "markdown",
      "metadata": {
        "id": "AZdfdAQSt7hZ"
      },
      "source": [
        "##### Copyright 2023 HrFlow's AI Research Department\n",
        "\n",
        "Licensed under the Apache License, Version 2.0 (the \"License\");"
      ]
    },
    {
      "cell_type": "code",
      "metadata": {
        "id": "QNgz5iA-uD4E"
      },
      "source": [
        "# Copyright 2023 HrFlow's AI Research Department. All Rights Reserved.\n",
        "#\n",
        "# Licensed under the Apache License, Version 2.0 (the \"License\");\n",
        "# you may not use this file except in compliance with the License.\n",
        "# You may obtain a copy of the License at\n",
        "#\n",
        "#     http://www.apache.org/licenses/LICENSE-2.0\n",
        "#\n",
        "# Unless required by applicable law or agreed to in writing, software\n",
        "# distributed under the License is distributed on an \"AS IS\" BASIS,\n",
        "# WITHOUT WARRANTIES OR CONDITIONS OF ANY KIND, either express or implied.\n",
        "# See the License for the specific language governing permissions and\n",
        "# limitations under the License.\n",
        "# =============================================================================="
      ],
      "execution_count": null,
      "outputs": []
    },
    {
      "cell_type": "markdown",
      "metadata": {
        "id": "ijYNoliXuIKP"
      },
      "source": [
        "<p>\n",
        "<table align=\"left\"><td>\n",
        "  <a target=\"_blank\"  href=\"https://colab.research.google.com/github/Riminder/python-hrflow-api/blob/feature/add-upload-ratings-colab/examples/colab/upload_tracking_data.ipynb\">\n",
        "    <img src=\"https://www.tensorflow.org/images/colab_logo_32px.png\" />Run in Google Colab\n",
        "  </a>\n",
        "</td><td>\n",
        "  <a target=\"_blank\"  href=\"https://github.com/Riminder/python-hrflow-api/blob/feature/add-upload-ratings-colab/examples/colab/upload_tracking_data.ipynb\">\n",
        "    <img width=32px src=\"https://www.tensorflow.org/images/GitHub-Mark-32px.png\" />View source on GitHub</a>\n",
        "</td><td>\n",
        "  <a target=\"_blank\"  href=\"https://www.hrflow.ai/book-us\">\n",
        "    <img width=32px src=\"https://gblobscdn.gitbook.com/spaces%2F-M1L6Hspq8r9LXd5_gIC%2Favatar-1586188377926.png?generation=1586188378327930&alt=media\" />Get an account</a>\n",
        "</td></table>\n",
        "<br>\n",
        "</p>"
      ]
    },
    {
      "cell_type": "markdown",
      "metadata": {
        "id": "PfFOG5klschh"
      },
      "source": [
        "Welcome to this Google Colaboratory tutorial for developers. **In only 3 steps**, we'll help you **upload your profile, job, and tracking data to HrFlow.ai**. This will enable you to test the powerful **HrFlow.ai Retraining feature**.\n",
        "\n",
        "Before we proceed, please ensure that you have created a source and a board in HrFlow.ai to store your data. You can find detailed instructions on how to create them through the following links:\n",
        "- **Create your source**: Connectors Source Documentation\n",
        "- **Create your board**: Connectors Board Documentation\n",
        "\n",
        "Now, let's take a quick look at how this notebook is organized:\n",
        "1. **👷 Uploading Profile Data**: Build and upload candidate profile information.\n",
        "2. **🛠 Uploading Job Data**: Create and upload job details.\n",
        "3. **🛤 Uploading Tracking Data**: Monitor candidate progress by uploading tracking data.\n",
        "\n",
        "Let's get started and harness the capabilities of HrFlow.ai!"
      ]
    },
    {
      "cell_type": "markdown",
      "source": [
        "# Getting Started"
      ],
      "metadata": {
        "id": "Y6_c0izEXfLX"
      }
    },
    {
      "cell_type": "code",
      "source": [
        "!pip install --quiet tqdm\n",
        "!pip install --quiet hrflow"
      ],
      "metadata": {
        "id": "2_3diMbMYgaA"
      },
      "execution_count": 1,
      "outputs": []
    },
    {
      "cell_type": "code",
      "source": [
        "from hrflow import Hrflow\n",
        "from tqdm import tqdm\n",
        "\n",
        "\n",
        "SOURCE_KEY = \"YOUR_SOURCE_KEY\"\n",
        "BOARD_KEY = \"YOUR_BOARD_KEY\"\n",
        "\n",
        "client = Hrflow(\n",
        "    api_secret=\"YOUR_API_SECRET\",\n",
        "    api_user=\"YOUR_API_USER\"\n",
        ")"
      ],
      "metadata": {
        "id": "GG8ZjRi2Ygdg"
      },
      "execution_count": 2,
      "outputs": []
    },
    {
      "cell_type": "markdown",
      "source": [
        "# 1. 👷 Uploading Profile Data\n"
      ],
      "metadata": {
        "id": "LwG57WibXovP"
      }
    },
    {
      "cell_type": "markdown",
      "source": [
        "**Please use the code 'profiles = load_profiles()' in this cell to load all your profiles.**\n",
        "\n",
        "To provide you with a better understanding of how this notebook works, we have included a Dummy Profile as an example in the second cell. This will help you familiarize yourself with the structure and format of the data."
      ],
      "metadata": {
        "id": "S_ggn2lNqCeN"
      }
    },
    {
      "cell_type": "code",
      "source": [
        "def load_profiles():\n",
        "  \"\"\"\n",
        "  Loads and formats your profile data into an HrFlow.ai Profile object.\n",
        "\n",
        "  Note: You need to implement the mapping between your data and the HrFlow.ai Profile object.\n",
        "\n",
        "  Please refer to the HrFlow.ai Profile object documentation for detailed information:\n",
        "  https://developers.hrflow.ai/reference/the-profile-object\n",
        "\n",
        "  Returns:\n",
        "      List[Dict]: The formatted Profile object.\n",
        "\n",
        "  Raises:\n",
        "      NotImplementedError: This function is not implemented yet.\n",
        "  \"\"\"\n",
        "  raise NotImplementedError(\"You need to implement this function and do the mapping between your data and the HrFlow.ai Profile object.\")"
      ],
      "metadata": {
        "id": "7f_t1ulTYZ-N"
      },
      "execution_count": 3,
      "outputs": []
    },
    {
      "cell_type": "code",
      "source": [
        "profiles = [\n",
        "  {\n",
        "    \"reference\": \"DUMMY_PROFILE\",\n",
        "    \"info\": {\n",
        "      \"full_name\": \"DUMMY PROFILE\",\n",
        "      \"first_name\": \"DUMMY\",\n",
        "      \"last_name\": \"PROFILE\",\n",
        "      \"email\": \"dummy_profile@hrflow.ai\",\n",
        "      \"phone\": \"+16506815000\",\n",
        "      \"location\": {\n",
        "        \"text\": \"Los Angeles, USA\",\n",
        "        \"lat\": 34.05358,\n",
        "        \"lng\": -118.24546,\n",
        "      },\n",
        "      \"gender\": \"male\",\n",
        "      \"summary\": 'Forged by HrFlow.ai...',\n",
        "    },\n",
        "    \"text\": \"DUMMY PROFILE\\nForged by HrFlow.ai...\",\n",
        "    \"experiences\": [],\n",
        "    \"educations\": [],\n",
        "    \"skills\": [],\n",
        "    \"languages\": [],\n",
        "    \"certifications\": [],\n",
        "    \"courses\": [],\n",
        "    \"tasks\": [],\n",
        "    \"interests\": [],\n",
        "  }\n",
        "]\n",
        "\n",
        "for profile in tqdm(profiles):\n",
        "    response = client.profile.storing.add_json(SOURCE_KEY, profile)\n",
        "print(response)"
      ],
      "metadata": {
        "colab": {
          "base_uri": "https://localhost:8080/"
        },
        "id": "DnRByXbOZcRM",
        "outputId": "54ac5c4f-c839-4c02-f010-c3ab6870aa58"
      },
      "execution_count": 4,
      "outputs": [
        {
          "output_type": "stream",
          "name": "stderr",
          "text": [
            "100%|██████████| 1/1 [00:01<00:00,  1.34s/it]"
          ]
        },
        {
          "output_type": "stream",
          "name": "stdout",
          "text": [
            "{'code': 201, 'message': 'Profile created', 'data': {'source_key': 'fe74630314b32622cba0027dcbcf4b4db512e477', 'id': 14996699, 'key': 'b32b1b501d0fb6be701b2685caf38d99f950df57', 'reference': 'DUMMY_PROFILE', 'consent_algorithmic': {'owner': {'parsing': False, 'revealing': False, 'embedding': False, 'searching': False, 'scoring': False, 'reasoning': False}, 'controller': {'parsing': False, 'revealing': False, 'embedding': False, 'searching': False, 'scoring': False, 'reasoning': False}}, 'source': {'key': 'fe74630314b32622cba0027dcbcf4b4db512e477', 'name': 'test-upload-notebook', 'type': 'api', 'subtype': 'http_api', 'environment': 'production'}, 'archive': None, 'archived_at': None, 'updated_at': '2023-06-22T01:33:50+0000', 'created_at': '2023-06-22T01:33:50+0000', 'info': {'full_name': 'DUMMY PROFILE', 'first_name': 'DUMMY', 'last_name': 'PROFILE', 'email': 'dummy_profile@hrflow.ai', 'phone': '+16506815000', 'date_birth': None, 'location': {'text': 'Los Angeles, USA', 'lat': 34.05358, 'lng': -118.24546, 'gmaps': None, 'fields': None}, 'urls': None, 'picture': None, 'gender': 'male', 'summary': 'Forged by HrFlow.ai...'}, 'text_language': None, 'text': 'DUMMY PROFILE\\nForged by HrFlow.ai...', 'experiences_duration': None, 'educations_duration': None, 'experiences': [], 'educations': [], 'attachments': [], 'skills': [], 'languages': [], 'certifications': [], 'courses': [], 'tasks': [], 'interests': [], 'labels': None, 'tags': None, 'metadatas': None}}\n"
          ]
        },
        {
          "output_type": "stream",
          "name": "stderr",
          "text": [
            "\n"
          ]
        }
      ]
    },
    {
      "cell_type": "markdown",
      "source": [
        "# 2. 🛠 Uploading Job Data"
      ],
      "metadata": {
        "id": "QFhN9u1kX4JT"
      }
    },
    {
      "cell_type": "markdown",
      "source": [
        "**Please use the code 'jobs = load_jobs()' in the following cell to load all your jobs.**\n",
        "\n",
        "To provide you with a better understanding of how this notebook works, we have included a Dummy JOB as an example in the second cell. This will help you familiarize yourself with the structure and format of the data."
      ],
      "metadata": {
        "id": "cfisCAPjqQYY"
      }
    },
    {
      "cell_type": "code",
      "source": [
        "def load_jobs():\n",
        "  \"\"\"\n",
        "  Loads and formats your job data into an HrFlow.ai Job object.\n",
        "\n",
        "  Note: You need to implement the mapping between your data and the HrFlow.ai Job object.\n",
        "\n",
        "  Please refer to the HrFlow.ai Job object documentation for detailed information:\n",
        "  https://developers.hrflow.ai/reference/the-job-object\n",
        "\n",
        "  Returns:\n",
        "      List[Dict]: The formatted Job object.\n",
        "\n",
        "  Raises:\n",
        "      NotImplementedError: This function is not implemented yet.\n",
        "  \"\"\"\n",
        "  raise NotImplementedError(\"You need to implement this function and do the mapping between your data and the HrFlow.ai Job object.\")"
      ],
      "metadata": {
        "id": "KcpcnFteYapf"
      },
      "execution_count": 5,
      "outputs": []
    },
    {
      "cell_type": "code",
      "source": [
        "jobs = [\n",
        "  {\n",
        "    \"reference\": \"DUMMY_JOB\",\n",
        "    \"name\": \"DUMMY_JOB\",\n",
        "    \"summary\": \"Forged by HrFlow.ai\",\n",
        "    \"location\": {\n",
        "      \"text\": \"Paris (75)\",\n",
        "      \"geopoint\": {\n",
        "        \"lat\": 48.86131,\n",
        "        \"lon\": 2.34054\n",
        "      },\n",
        "    },\n",
        "    \"culture\": \"\",\n",
        "    \"responsibilities\": \"\",\n",
        "    \"requirements\": \"\",\n",
        "    \"benefits\": \"\",\n",
        "    \"interviews\": \"\",\n",
        "    \"sections\": [],\n",
        "    \"skills\": [],\n",
        "    \"languages\": [],\n",
        "  }\n",
        "]\n",
        "\n",
        "for job in tqdm(jobs):\n",
        "  response = client.job.storing.add_json(BOARD_KEY, job)\n",
        "print(response)\n"
      ],
      "metadata": {
        "colab": {
          "base_uri": "https://localhost:8080/"
        },
        "id": "VUiSThDbZijN",
        "outputId": "559ac10c-4634-4c0b-ab52-4c43ef6adf06"
      },
      "execution_count": 6,
      "outputs": [
        {
          "output_type": "stream",
          "name": "stderr",
          "text": [
            "100%|██████████| 1/1 [00:01<00:00,  1.31s/it]"
          ]
        },
        {
          "output_type": "stream",
          "name": "stdout",
          "text": [
            "{'code': 201, 'message': 'Job created', 'data': {'id': 1278943, 'key': '9bc72a570845677f4f2e860eb95f78c1d7d352bb', 'reference': 'DUMMY_JOB', 'board_key': 'f040de20e7d66f748e1d2141fdf950d53478bc6e', 'board': {'key': 'f040de20e7d66f748e1d2141fdf950d53478bc6e', 'name': 'test-upload-notebook', 'type': 'api', 'subtype': 'http_api', 'environment': 'production'}, 'name': 'DUMMY_JOB', 'url': None, 'picture': None, 'summary': 'Forged by HrFlow.ai', 'location': {'text': 'Paris (75)', 'lat': None, 'lng': None, 'gmaps': None, 'fields': None}, 'archive': None, 'archived_at': None, 'updated_at': '2023-06-22T01:34:10+0000', 'created_at': '2023-06-22T01:34:10+0000', 'sections': [], 'culture': '', 'responsibilities': '', 'requirements': '', 'benefits': '', 'interviews': '', 'skills': [], 'languages': [], 'certifications': None, 'courses': None, 'tasks': None, 'tags': None, 'metadatas': None, 'ranges_float': None, 'ranges_date': None}}\n"
          ]
        },
        {
          "output_type": "stream",
          "name": "stderr",
          "text": [
            "\n"
          ]
        }
      ]
    },
    {
      "cell_type": "markdown",
      "source": [
        "# 3. 🛤 Uploading Tracking Data"
      ],
      "metadata": {
        "id": "SgDchHxfX4S9"
      }
    },
    {
      "cell_type": "markdown",
      "source": [
        "Please use the code 'trackings = load_trackings()' in this cell to load all your trackings.\n",
        "\n",
        "To provide you with a better understanding of how this notebook operates, we have included a dummy tracking example. This will help you grasp the structure and format of the data.\n",
        "\n",
        "Please note that the 'profile_reference' and 'job_reference' fields are being used to upload your profiles and jobs, respectively. This information is crucial for constructing the tracking objects accurately."
      ],
      "metadata": {
        "id": "2esAte8ysDuQ"
      }
    },
    {
      "cell_type": "code",
      "source": [
        "def load_trackings():\n",
        "    \"\"\"\n",
        "    Loads and formats your tracking data into an HrFlow.ai Tracking object.\n",
        "\n",
        "    Note: You need to implement the mapping between your data and the HrFlow.ai Tracking object.\n",
        "\n",
        "    The schema for the HrFlow.ai Tracking object is as follows:\n",
        "    Tracking = {\n",
        "        \"action\": [\"view\", \"apply\", \"hire\"],\n",
        "        \"role\": [\"recruiter\", \"candidate\", \"employee\", \"manager\"]\n",
        "        \"source_key\": str\n",
        "        \"profile_reference\": str,\n",
        "        \"board_key\": str\n",
        "        \"job_reference\": str\n",
        "    }\n",
        "\n",
        "    Returns:\n",
        "        List[Tracking]: The formatted Tracking object.\n",
        "\n",
        "    Raises:\n",
        "        NotImplementedError: This function is not implemented yet.\n",
        "    \"\"\"\n",
        "    raise NotImplementedError(\"You need to implement this function and map your data to the HrFlow.ai Tracking object.\")"
      ],
      "metadata": {
        "id": "Ec_dTOthYbjv"
      },
      "execution_count": 7,
      "outputs": []
    },
    {
      "cell_type": "code",
      "source": [
        "trackings = [\n",
        "  {\n",
        "    \"action\": \"apply\",\n",
        "    \"role\": \"candidate\",\n",
        "    \"source_key\": SOURCE_KEY,\n",
        "    \"profile_reference\": \"DUMMY_PROFILE\",\n",
        "    \"board_key\": BOARD_KEY,\n",
        "    \"job_reference\": \"DUMMY_JOB\"\n",
        "  }\n",
        "]\n",
        "\n",
        "for tracking in tqdm(trackings):\n",
        "  response = client.tracking.post(**tracking)\n",
        "print(response)"
      ],
      "metadata": {
        "colab": {
          "base_uri": "https://localhost:8080/"
        },
        "id": "BYf6Ir6RZpmF",
        "outputId": "cbc1c1d7-663d-400d-8333-3028082e872d"
      },
      "execution_count": 8,
      "outputs": [
        {
          "output_type": "stream",
          "name": "stderr",
          "text": [
            "100%|██████████| 1/1 [00:01<00:00,  1.18s/it]"
          ]
        },
        {
          "output_type": "stream",
          "name": "stdout",
          "text": [
            "{'code': 201, 'message': 'Tracking created', 'data': {'action': 'apply', 'duration': None, 'team_key': 'fc9d40fd60e679119130ea74ae1d34a3e22174f2', 'source_key': 'fe74630314b32622cba0027dcbcf4b4db512e477', 'profile_key': 'b32b1b501d0fb6be701b2685caf38d99f950df57', 'profile_reference': 'DUMMY_PROFILE', 'board_key': 'f040de20e7d66f748e1d2141fdf950d53478bc6e', 'job_key': '9bc72a570845677f4f2e860eb95f78c1d7d352bb', 'job_reference': 'DUMMY_JOB', 'author_email': None, 'role': 'candidate', 'comment': None, 'updated_at': '2023-06-22T01:34:18+0000', 'created_at': '2023-06-22T01:34:18+0000'}}\n"
          ]
        },
        {
          "output_type": "stream",
          "name": "stderr",
          "text": [
            "\n"
          ]
        }
      ]
    }
  ]
}