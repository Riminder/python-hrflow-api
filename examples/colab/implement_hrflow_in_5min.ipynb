{
  "cells": [
    {
      "cell_type": "markdown",
      "metadata": {
        "id": "edx3QrMSrQTp"
      },
      "source": [
        "##### Copyright 2020 HrFlow's AI Research Department\n",
        "\n",
        "Licensed under the Apache License, Version 2.0 (the \"License\");"
      ]
    },
    {
      "cell_type": "code",
      "execution_count": 1,
      "metadata": {
        "id": "9znB9eN4rcHm"
      },
      "outputs": [],
      "source": [
        "# Copyright 2020 HrFlow's AI Research Department. All Rights Reserved.\n",
        "#\n",
        "# Licensed under the Apache License, Version 2.0 (the \"License\");\n",
        "# you may not use this file except in compliance with the License.\n",
        "# You may obtain a copy of the License at\n",
        "#\n",
        "#     http://www.apache.org/licenses/LICENSE-2.0\n",
        "#\n",
        "# Unless required by applicable law or agreed to in writing, software\n",
        "# distributed under the License is distributed on an \"AS IS\" BASIS,\n",
        "# WITHOUT WARRANTIES OR CONDITIONS OF ANY KIND, either express or implied.\n",
        "# See the License for the specific language governing permissions and\n",
        "# limitations under the License.\n",
        "# =============================================================================="
      ]
    },
    {
      "cell_type": "markdown",
      "metadata": {
        "id": "IROuCfFnnFCi"
      },
      "source": [
        "<p>\n",
        "<table align=\"left\"><td>\n",
        "  <a target=\"_blank\"  href=\"https://colab.research.google.com/github/Riminder/python-hrflow-api/blob/master/examples/colab/implement_hrflow_in_5min.ipynb\">\n",
        "    <img src=\"https://www.tensorflow.org/images/colab_logo_32px.png\" />Run in Google Colab\n",
        "  </a>\n",
        "</td><td>\n",
        "  <a target=\"_blank\"  href=\"https://github.com/Riminder/python-hrflow-api/blob/master/examples/colab/implement_hrflow_in_5min.ipynb\">\n",
        "    <img width=32px src=\"https://www.tensorflow.org/images/GitHub-Mark-32px.png\" />View source on GitHub</a>\n",
        "</td><td>\n",
        "  <a target=\"_blank\"  href=\"https://www.hrflow.ai/book-us\">\n",
        "    <img width=32px src=\"https://gblobscdn.gitbook.com/spaces%2F-M1L6Hspq8r9LXd5_gIC%2Favatar-1586188377926.png?generation=1586188378327930&alt=media\" />Get an account</a>\n",
        "</td></table>\n",
        "<br>\n",
        "</p>"
      ]
    },
    {
      "cell_type": "markdown",
      "metadata": {
        "id": "kWIrSWzfMWLP"
      },
      "source": [
        "# Getting Started"
      ]
    },
    {
      "cell_type": "markdown",
      "metadata": {
        "id": "mmjK4g-EMcuD"
      },
      "source": [
        "This section sets up the environment to get access to HrFlow Profile API and sets up a connection to HrFlow."
      ]
    },
    {
      "cell_type": "code",
      "execution_count": null,
      "metadata": {
        "id": "_JupOXd8MjUx"
      },
      "outputs": [],
      "source": [
        "# HrFlow Dependencies\n",
        "!apt-get install libmagic-dev\n",
        "!pip install --quiet python-magic\n",
        "!pip install --quiet hrflow"
      ]
    },
    {
      "cell_type": "code",
      "execution_count": null,
      "metadata": {
        "id": "ddAMgGFWF1c-"
      },
      "outputs": [],
      "source": [
        "import os\n",
        "import pickle\n",
        "from spacy import displacy\n",
        "from google.colab import drive\n",
        "\n",
        "drive.mount('/content/drive', force_remount=True)\n",
        "ROOT_PATH = \"drive/My Drive/Data\""
      ]
    },
    {
      "cell_type": "markdown",
      "metadata": {
        "id": "V-jLGXhYsJRn"
      },
      "source": [
        "Utilities : "
      ]
    },
    {
      "cell_type": "code",
      "execution_count": null,
      "metadata": {
        "id": "YqBk6ycwsIL4"
      },
      "outputs": [],
      "source": [
        "class Prettify():\n",
        "    \n",
        "    LABELS = [\"Person\", \"Company\", \"Job_title\", \"School\", \"Edu_title\",\n",
        "              \"Skill\", \"Interest\", \"Location\", \"Date\", \"Email\",\n",
        "              \"Language\", \"Phone\", \"Duration\"]\n",
        "\n",
        "    COLORS = ['#85C1E9', '#82E0AA', '#ABEBC6', '#76D7C4', '#7FB3D5', \n",
        "              '#E8DAEF', '#AED6F1', '#FAD7A0', '#D2B4DE', '#F5B041', \n",
        "              '#A9DFBF', '#D7BDE2', '#82E0AA']\n",
        "    \n",
        "    def __init__(self, *args, **kwargs):\n",
        "        self.labels = kwargs.pop(\"labels\", self.LABELS)\n",
        "        self.colors = kwargs.pop(\"colors\", self.COLORS)\n",
        "        self.options = {'colors': {label.upper(): color for color, label in zip(self.colors, self.labels)}}\n",
        "    \n",
        "    def __call__(self, obj):\n",
        "        displacy.render(obj, style=\"ent\", manual=True, jupyter=True, options=self.options)\n",
        "        \n",
        "printer = Prettify()"
      ]
    },
    {
      "cell_type": "markdown",
      "metadata": {
        "id": "cYt0lmF0NsDQ"
      },
      "source": [
        "# HrFlow Client"
      ]
    },
    {
      "cell_type": "markdown",
      "metadata": {
        "id": "t0wQA2haNgf_"
      },
      "source": [
        "An API Key and a user email are required here. You can get your API Key at https://<your-sub domain/>.hrflow.ai/settings/api/keys\n"
      ]
    },
    {
      "cell_type": "code",
      "execution_count": null,
      "metadata": {
        "id": "bZD_9RYWNhdR"
      },
      "outputs": [],
      "source": [
        "import getpass\n",
        "\n",
        "## Enter secret API key\n",
        "api_secret = getpass.getpass()"
      ]
    },
    {
      "cell_type": "code",
      "execution_count": null,
      "metadata": {
        "id": "oW8gFC-0Npvw"
      },
      "outputs": [],
      "source": [
        "import pprint\n",
        "\n",
        "from hrflow import Hrflow\n",
        "\n",
        "api_user = \"mohamed.benqassmi@riminder.net\"\n",
        "\n",
        "client = Hrflow(api_secret=api_secret, api_user=api_user)\n",
        "\n"
      ]
    },
    {
      "cell_type": "markdown",
      "metadata": {
        "id": "JD0rOOa7OeWw"
      },
      "source": [
        "# Parsing API"
      ]
    },
    {
      "cell_type": "markdown",
      "metadata": {
        "id": "qOTF-blkO1UK"
      },
      "source": [
        "## Profile Parsing"
      ]
    },
    {
      "cell_type": "code",
      "execution_count": null,
      "metadata": {
        "id": "tLNdXtd-OeEm"
      },
      "outputs": [],
      "source": [
        "profile_file = open(ROOT_PATH+'/original.pdf',\"rb\")\n",
        "\n",
        "resp =  client.profile.parsing.add_file(source_key=\"source_key\",\n",
        "                        profile_file=profile_file,\n",
        "                        profile_content_type='application/pdf',\n",
        "                        reference='12334324234',\n",
        "                        tags=[],\n",
        "                        metadatas=[],\n",
        "                        created_at=\"2020-01-01T00:00:00\",\n",
        "                        sync_parsing=1,\n",
        "                        sync_parsing_indexing=1,\n",
        "                        webhook_parsing_sending=0)\n",
        "profile_file.close()\n",
        "profile = resp['data']['profile']\n",
        "pprint.pprint(profile)"
      ]
    },
    {
      "cell_type": "markdown",
      "metadata": {
        "id": "JB2FQ1OYZN4F"
      },
      "source": [
        "# Profile indexing"
      ]
    },
    {
      "cell_type": "code",
      "execution_count": null,
      "metadata": {
        "id": "YSpYwkZZZQix"
      },
      "outputs": [],
      "source": [
        "data = {\n",
        "  \"consent_algorithmic\": {\n",
        "            \"owner\": {\n",
        "                \"parsing\": True,\n",
        "                \"revealing\": False,\n",
        "                \"embedding\": True,\n",
        "                \"searching\": False,\n",
        "                \"scoring\": True,\n",
        "                \"reasoning\": False\n",
        "            },\n",
        "            \"controller\": {\n",
        "                \"parsing\": True,\n",
        "                \"revealing\": False,\n",
        "                \"embedding\": True,\n",
        "                \"searching\": False,\n",
        "                \"scoring\": True,\n",
        "                \"reasoning\": False\n",
        "            }\n",
        "        },\n",
        "  \"info\" : {\n",
        "      \"full_name\":\"Harry Potter\",\n",
        "      \"first_name\": \"Harry\",\n",
        "      \"last_name\": \"Potter\",\n",
        "      \"email\":\"harry.potter@gmail.com\",\n",
        "      \"phone\":\"0202\",\n",
        "      \"gender\": None,\n",
        "      \"urls\": {\n",
        "          \"from_resume\": [],\n",
        "          \"linkedin\":\"\",\n",
        "          \"twitter\":\"\",\n",
        "          \"facebook\":\"\",\n",
        "          \"github\":\"\",\n",
        "          \"picture\":\"\"},\n",
        "      \"picture\":None,\n",
        "        \"location\":{\"text\": None},\n",
        "        \"summary\": \"Brief summary\"\n",
        "  },\n",
        "  \"experiences\": [{\n",
        "      \"date_start\":  {\"iso8601\": \"2018-01-01T00:00:00\"},\n",
        "      \"date_end\": {\"iso8601\": \"2018-07-01T00:00:00\"},\n",
        "      \"title\": \"Lead\",\n",
        "      \"company\": \"Mathematic Departement\",\n",
        "      \"location\": {\"text\":\"Paris\"},\n",
        "      \"description\": \"Developping.\"\n",
        "      }],\n",
        "  \"experiences_duration\":5,\n",
        "  \"educations\": [{\n",
        "      \"date_start\": {\"iso8601\": \"2016-01-01T00:00:00\"},\n",
        "      \"date_end\": {\"iso8601\": \"2018-01-01T00:00:00\"},\n",
        "      \"title\": \"Mathematicien\",\n",
        "      \"school\": \"University\",\n",
        "      \"description\": \"Description\",\n",
        "      \"location\": {\"text\":\"Scotland\", \"lat\":\"lat\", \"lng\": \"lng\"}\n",
        "  }],\n",
        "  \"educations_duration\":4,\n",
        "  \"skills\": [{\"name\":\"manual skill\", \"type\": \"hard\", \"value\": None},\n",
        "               {\"name\":\"Creative spirit\", \"type\": \"soft\",\"value\": None}, \n",
        "               {\"name\":\"Writing skills\", \"type\": \"hard\",\"value\": None}, \n",
        "               {\"name\":\"Communication\", \"type\": \"soft\",\"value\": None}],\n",
        "  \"languages\" : [{\"name\":\"english\", \"value\": None}],\n",
        "  \"interests\": [{\"name\":\"football\", \"value\": None}],\n",
        "  \"tags\":[{\"name\":\"archive\", \"value\": False}],\n",
        "  \"metadatas\":[],\n",
        "  \"labels\":[{\"stage\":\"yes\", \"job_key\":\"job_key\"}],\n",
        "  \"attachments\": []\n",
        "};\n",
        "\n",
        "resp = client.profile.indexing.add_json(source_key=\"source_key\", profile_json=data)\n",
        "\n",
        "pprint.pprint(resp)"
      ]
    },
    {
      "cell_type": "markdown",
      "metadata": {
        "id": "uGpQUhw-rl57"
      },
      "source": [
        "## Job Parsing"
      ]
    },
    {
      "cell_type": "code",
      "execution_count": null,
      "metadata": {
        "id": "PJpFjpsurkVy"
      },
      "outputs": [],
      "source": [
        "job = \"\"\" Développeur JAVA Si la perspective d'integrer l'entreprise porteuse des projets les plus innovants en France comme a  l'international vous motive, alors rencontrons-nous ! Labellise \"Top employeur\" \\\n",
        "          2020, ALTEN est un acteur majeur du recrutement d'ingenieurs en France.      Description du poste    Et si VOTRE aventure commencait avec NOUS ! Nous recrutons en CDI, un Ingenieur en \\\n",
        "          developpement JAVA pour accompagner notre client, acteur majeur de l'industrie. Vous interviendrez sur les missions suivantes : a?¢Definir et analyser les besoins du client a?¢Rediger\\\n",
        "          les specifications techniques a?¢Developper et optimiser les applications ainsi que les evolutions sur l'ensemble des briques applicatives (back et/ou front) a?¢Organiser les tests unitaires\\\n",
        "          et recettes fonctionnelles afin de verifier la bonne marche des differentes fonctionnalites a?¢Assurer la maintenance evolutive et corrective a  savoir l'analyse, la qualification et\\\n",
        "          les corrections des anomalies ainsi que la mise en production     Description du profil    Vous etes diplome d'une Ecole d'ingenieurs ou titulaire d'un niveau Master 2 (bac+5) avec \\\n",
        "          une specialisation informatique. Vous justifiez d'une connaissance d'une experience de 2 minimum sur un similaire.    Competences    a?¢Competences techniques requises : JAVA a?¢Capacite a\\\n",
        "          travailler en equipe, rigueur et autonomie.  a?¢Vous apportez une attention particuliere a  la qualite du code, aux tests unitaires et a  l'integration continue. a?¢Pratique de la \\\n",
        "          methode Agile\"\"\"\n",
        "\n",
        "\n",
        "resp = client.document.parsing.post(text=job)\n",
        "\n",
        "\n",
        "printer(resp['data'])"
      ]
    },
    {
      "cell_type": "markdown",
      "metadata": {
        "id": "tf0v4vZ2r8D4"
      },
      "source": [
        "# Revealing API"
      ]
    },
    {
      "cell_type": "markdown",
      "metadata": {
        "id": "Ie9KnIz9tvIq"
      },
      "source": [
        "## Job revealing"
      ]
    },
    {
      "cell_type": "code",
      "execution_count": null,
      "metadata": {
        "id": "V5XOWDkVty6x"
      },
      "outputs": [],
      "source": [
        "resp =  client.document.revealing.post(text=job)\n",
        "pprint.pprint(resp)\n"
      ]
    },
    {
      "cell_type": "markdown",
      "metadata": {
        "id": "IBjCPQqXZ3WH"
      },
      "source": [
        "# Job indexing"
      ]
    },
    {
      "cell_type": "code",
      "execution_count": null,
      "metadata": {
        "id": "G-4COm45Z0HO"
      },
      "outputs": [],
      "source": [
        "job_json = {\n",
        "    \"name\": \"Data Scientist\",\n",
        "    \"agent_key\": None,\n",
        "    \"reference\": \"2536585\",\n",
        "    \"url\": \"https://www.pole-emploi.ai/jobs/data_engineer\",\n",
        "    \"summary\": \"\"\"As an engineer for the Data Engineering Infrastructure team, \n",
        "                you will design, build, scale, and evolve our data engineering\n",
        "                platform, services and tooling. Your work will have a critical \n",
        "                impact on all areas of business: powering core data pipelines,\n",
        "                supporting detailed internal analytics, calculating customer\n",
        "                usage, securing our platform, and much more.\"\"\",\n",
        "    \"location\": {\n",
        "                  \"text\": \"Dampierre en Burly (45)\",\n",
        "                  \"geopoint\": {\n",
        "                      \"lat\": 47.7667,\n",
        "                      \"lon\": 2.5167\n",
        "                  }\n",
        "                 },\n",
        "    \"sections\": [{\n",
        "                    \"name\": \"profile\",\n",
        "                    \"title\": \"Searched Profile\",\n",
        "                    \"description\": \"Bac+5\"\n",
        "                  }],\n",
        "    \"skills\": [{\n",
        "                  \"name\": \"python\",\n",
        "                  \"value\": None},\n",
        "               {\n",
        "                  \"name\": \"spark\",\n",
        "                  \"value\": 0.9\n",
        "               }],\n",
        "    \"languages\": [{\n",
        "                     \"name\": \"english\",\n",
        "                     \"value\": 1\n",
        "                  },\n",
        "                 {  \n",
        "                     \"name\": \"french\",\n",
        "                     \"value\": 1\n",
        "                  }],\n",
        "    \"tags\": [{\n",
        "                \"name\": \"archive\",\n",
        "                \"value\": True\n",
        "             },\n",
        "             {  \n",
        "                \"name\": \"tag example\",\n",
        "                \"value\": \"tag\"\n",
        "              }],\n",
        "    \"ranges_date\": [{\n",
        "                       \"name\": \"Dates\",\n",
        "                       \"value_min\": \"2020-05-18T21:59\",\n",
        "                       \"value_max\": \"2020-09-15T21:59\"\n",
        "                    }],\n",
        "    \"ranges_float\": [{\n",
        "                       \"name\": \"salary\",\n",
        "                       \"value_min\": 30,\n",
        "                       \"value_max\": 40,\n",
        "                       \"unit\": \"eur\"\n",
        "                    }],\n",
        "    \"metadatas\": [{\n",
        "                     \"name\": \"metadata example\",\n",
        "                     \"value\": \"metadata\"\n",
        "                  }],\n",
        "}\n",
        "\n",
        "resp = client.job.indexing.add_json(board_key=\"board_key\", job_json=job_json)\n",
        "\n",
        "pprint.pprint(resp)"
      ]
    },
    {
      "cell_type": "markdown",
      "metadata": {
        "id": "T-0BaEhYn_tT"
      },
      "source": [
        "# Advanced use case : Profiles Matching"
      ]
    },
    {
      "cell_type": "markdown",
      "metadata": {
        "id": "m_bD2kb8mJfF"
      },
      "source": [
        "## Profile's scoring"
      ]
    },
    {
      "cell_type": "markdown",
      "metadata": {
        "id": "W-Ryad0AxjMI"
      },
      "source": [
        "client.profile.scoring scores profiles from source_keys (python list of source_key) with regards to a job_key. job_key can be retrieved using the Job API or by creating a new job at https://``````.hrflow.ai/marketplace/agents. The underlying scoring agent (classifier model) is linked to the job_key while creating the job."
      ]
    },
    {
      "cell_type": "code",
      "execution_count": null,
      "metadata": {
        "id": "Mj67rVyymMyS"
      },
      "outputs": [],
      "source": [
        "resp = client.profile.scoring.list(source_keys=[\"source_key\"],\n",
        "                                   board_key=\"board_key\",\n",
        "                                   job_key=\"job_key\",\n",
        "                                   use_agent= 1)\n",
        "\n",
        "pprint.pprint(resp)\n"
      ]
    },
    {
      "cell_type": "code",
      "execution_count": null,
      "metadata": {
        "id": "FWcZxsWSJytE"
      },
      "outputs": [],
      "source": []
    }
  ],
  "metadata": {
    "colab": {
      "collapsed_sections": [],
      "name": "2020-09-22-Product Update - Quick start.ipynb",
      "provenance": []
    },
    "kernelspec": {
      "display_name": "Python 3",
      "name": "python3"
    }
  },
  "nbformat": 4,
  "nbformat_minor": 0
}
